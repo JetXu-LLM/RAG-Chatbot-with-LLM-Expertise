{
 "cells": [
  {
   "cell_type": "code",
   "execution_count": null,
   "metadata": {},
   "outputs": [],
   "source": [
    "import logging\n",
    "# 配置日志\n",
    "logging.basicConfig(level=logging.INFO)\n",
    "from transformers import AutoModelForCausalLM, AutoTokenizer\n",
    "import torch\n",
    "\n",
    "# Replace 'your_model_file' with the path to the model file you downloaded.\n",
    "model_id = \"/Users/jet.xu/Mistralai/Mistral-7B-Instruct-v0.2\"\n",
    "tokenizer = AutoTokenizer.from_pretrained(model_id, device_map=\"mps\", trust_remote_code=True)\n",
    "\n",
    "model = AutoModelForCausalLM.from_pretrained(model_id, device_map=\"mps\", trust_remote_code=True, torch_dtype=torch.float16)"
   ]
  },
  {
   "cell_type": "code",
   "execution_count": null,
   "metadata": {},
   "outputs": [],
   "source": [
    "# Composing the instruction with the necessary template\n",
    "instruction = \"<s> [INST] {} [/INST]\".format(\"请详细解释一下什么是MOE混合专家大模型的架构和原理，请使用中文回答。\")\n",
    "inputs = tokenizer(instruction, return_tensors=\"pt\")\n",
    "inputs.to(\"mps\")\n",
    "outputs = model.generate(**inputs, max_new_tokens=4000, do_sample=True, num_return_sequences=1, temperature=0.9, top_k=50, top_p=0.95, pad_token_id=tokenizer.eos_token_id)\n",
    "print(tokenizer.decode(outputs[0], skip_special_tokens=True))"
   ]
  }
 ],
 "metadata": {
  "kernelspec": {
   "display_name": "Python 3",
   "language": "python",
   "name": "python3"
  },
  "language_info": {
   "codemirror_mode": {
    "name": "ipython",
    "version": 3
   },
   "file_extension": ".py",
   "mimetype": "text/x-python",
   "name": "python",
   "nbconvert_exporter": "python",
   "pygments_lexer": "ipython3",
   "version": "3.11.6"
  }
 },
 "nbformat": 4,
 "nbformat_minor": 2
}
