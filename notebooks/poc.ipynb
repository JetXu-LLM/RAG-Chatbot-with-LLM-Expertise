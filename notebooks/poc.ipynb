{
 "cells": [
  {
   "cell_type": "code",
   "execution_count": null,
   "metadata": {},
   "outputs": [],
   "source": [
    "import logging\n",
    "# 配置日志\n",
    "logging.basicConfig(level=logging.INFO)\n",
    "from transformers import AutoModelForCausalLM, AutoTokenizer\n",
    "import torch\n",
    "\n",
    "# Replace 'your_model_file' with the path to the model file you downloaded.\n",
    "model_id = \"mistralai/Mistral-7B-Instruct-v0.2\"\n",
    "tokenizer = AutoTokenizer.from_pretrained(model_id, device_map=\"mps\", trust_remote_code=True)\n",
    "\n",
    "model = AutoModelForCausalLM.from_pretrained(model_id, device_map=\"mps\", trust_remote_code=True, torch_dtype=torch.float16)"
   ]
  },
  {
   "cell_type": "code",
   "execution_count": null,
   "metadata": {},
   "outputs": [],
   "source": [
    "# 构造消息\n",
    "messages = [\n",
    "    {\"role\": \"user\", \"content\": \"你最喜欢的调料是什么？\"},\n",
    "    {\"role\": \"assistant\", \"content\": \"嗯，我特别偏爱新鲜的柠檬汁。它能给我烹饪的食物增添恰到好处的鲜味！\"},\n",
    "    {\"role\": \"user\", \"content\": \"你有没有美食的食谱？\"}\n",
    "]\n",
    "\n",
    "# 应用消息模板\n",
    "inputs = tokenizer.apply_chat_template(messages, return_tensors=\"pt\")\n",
    "print(tokenizer.decode(inputs[0]))\n",
    "inputs = tokenizer(tokenizer.decode(inputs[0]), return_tensors=\"pt\")\n",
    "inputs.to(model.device)\n",
    "outputs = model.generate(**inputs, max_new_tokens=4000, do_sample=True, num_return_sequences=1, pad_token_id=tokenizer.eos_token_id)\n",
    "print(tokenizer.decode(outputs[0], skip_special_tokens=True))"
   ]
  },
  {
   "cell_type": "code",
   "execution_count": null,
   "metadata": {},
   "outputs": [],
   "source": [
    "# Composing the instruction with the necessary template\n",
    "instruction = \"<s> [INST] {} [/INST]\".format(\"请详细解释一下什么是MOE混合专家大模型的架构和原理，请使用中文回答。\")\n",
    "inputs = tokenizer(instruction, return_tensors=\"pt\")\n",
    "inputs.to(\"mps\")\n",
    "outputs = model.generate(**inputs, max_new_tokens=4000, do_sample=True, num_return_sequences=1, temperature=0.9, top_k=50, top_p=0.95, pad_token_id=tokenizer.eos_token_id)\n",
    "print(tokenizer.decode(outputs[0], skip_special_tokens=True))"
   ]
  },
  {
   "cell_type": "code",
   "execution_count": 1,
   "metadata": {},
   "outputs": [
    {
     "ename": "ImportError",
     "evalue": "cannot import name 'LangChain' from 'langchain' (/Users/xujiantong/miniconda3/lib/python3.10/site-packages/langchain/__init__.py)",
     "output_type": "error",
     "traceback": [
      "\u001b[0;31m---------------------------------------------------------------------------\u001b[0m",
      "\u001b[0;31mImportError\u001b[0m                               Traceback (most recent call last)",
      "Cell \u001b[0;32mIn[1], line 2\u001b[0m\n\u001b[1;32m      1\u001b[0m \u001b[38;5;28;01mimport\u001b[39;00m \u001b[38;5;21;01mlogging\u001b[39;00m\n\u001b[0;32m----> 2\u001b[0m \u001b[38;5;28;01mfrom\u001b[39;00m \u001b[38;5;21;01mlangchain\u001b[39;00m \u001b[38;5;28;01mimport\u001b[39;00m LangChain, LangChainModel, LangChainTokenizer\n\u001b[1;32m      3\u001b[0m \u001b[38;5;28;01mimport\u001b[39;00m \u001b[38;5;21;01mtorch\u001b[39;00m\n\u001b[1;32m      5\u001b[0m \u001b[38;5;66;03m# Configure logs\u001b[39;00m\n",
      "\u001b[0;31mImportError\u001b[0m: cannot import name 'LangChain' from 'langchain' (/Users/xujiantong/miniconda3/lib/python3.10/site-packages/langchain/__init__.py)"
     ]
    }
   ],
   "source": [
    "import logging\n",
    "from langchain import LangChain, LangChainModel, LangChainTokenizer\n",
    "import torch\n",
    "\n",
    "# Configure logs\n",
    "logging.basicConfig(level=logging.INFO)\n",
    "\n",
    "# Replace 'your_model_file' with the path to the model file you downloaded.\n",
    "model_id = \"mistralai/Mistral-7B-Instruct-v0.2\"\n",
    "\n",
    "# Initialize the tokenizer and model\n",
    "tokenizer = LangChainTokenizer.from_pretrained(model_id, device_map=\"mps\", trust_remote_code=True)\n",
    "model = LangChainModel.from_pretrained(model_id, device_map=\"mps\", trust_remote_code=True, torch_dtype=torch.float16)\n",
    "\n",
    "# Construct the message\n",
    "messages = [\n",
    "    {\"role\": \"user\", \"content\": \"What's your favorite spice?\"},\n",
    "    {\"role\": \"assistant\", \"content\": \"Well, I have a preference for fresh lemonade. It adds just the right amount of umami to the food I cook! \"},\n",
    "    {\"role\": \"user\", \"content\": \"Do you have a recipe for a good meal?\"}\n",
    "]\n",
    "\n",
    "# Apply a message template\n",
    "inputs = tokenizer.apply_chat_template(messages, return_tensors=\"pt\")\n",
    "print(tokenizer.decode(inputs[0]))\n",
    "inputs = tokenizer(tokenizer.decode(inputs[0]), return_tensors=\"pt\")\n",
    "inputs.to(model.device)\n",
    "outputs = model.generate(**inputs, max_new_tokens=4000, do_sample=True, num_return_sequences=1, pad_token_id=tokenizer.eos_token_id)\n",
    "print(tokenizer.decode(outputs[0], skip_special_tokens=True))\n",
    "\n",
    "# Composing the instruction with the necessary template\n",
    "instruction = \" [INST]<s> {} [/INST]\".format(\"Please explain in detail what is the architecture and principle of the MOE hybrid expert large model, please answer in Chinese.\")\n",
    "inputs = tokenizer(instruction, return_tensors=\"pt\")\n",
    "inputs.to(\"mps\")\n",
    "outputs = model.generate(**inputs, max_new_tokens=4000, do_sample=True, num_return_sequences=1, temperature=0.9, top_k=50, top_p=0.95, pad_token_id=tokenizer.eos_token_id)\n",
    "print(tokenizer.decode(outputs[0], skip_special_tokens=True))\n",
    "\n"
   ]
  },
  {
   "cell_type": "code",
   "execution_count": null,
   "metadata": {},
   "outputs": [],
   "source": [
    "HUGGINGFACEHUB_API_TOKEN = \"f_zaSzRmIZVmpJTRpKKWwTyYxpQvsdMpnwWQ\"\n",
    "import os\n",
    "\n",
    "os.environ[\"HUGGINGFACEHUB_API_TOKEN\"] = HUGGINGFACEHUB_API_TOKEN\n",
    "from langchain.llms import HuggingFaceHub\n",
    "from langchain.chains import LLMChain\n",
    "from langchain.prompts import PromptTemplate\n",
    "question = \"Who won the FIFA World Cup in the year 1994? \"\n",
    "\n",
    "template = \"\"\"Question: {question}\n",
    "\n",
    "Answer: Let's think step by step.\"\"\"\n",
    "\n",
    "prompt = PromptTemplate(template=template, input_variables=[\"question\"])\n",
    "repo_id = \"mistralai/Mistral-7B-Instruct-v0.2\"\n",
    "llm = HuggingFaceHub(\n",
    "    repo_id=repo_id, model_kwargs={\"temperature\": 0.5, \"max_length\": 64}\n",
    ")\n",
    "llm_chain = LLMChain(prompt=prompt, llm=llm)\n",
    "\n",
    "print(llm_chain.run(question))\n"
   ]
  }
 ],
 "metadata": {
  "kernelspec": {
   "display_name": "Python 3",
   "language": "python",
   "name": "python3"
  },
  "language_info": {
   "codemirror_mode": {
    "name": "ipython",
    "version": 3
   },
   "file_extension": ".py",
   "mimetype": "text/x-python",
   "name": "python",
   "nbconvert_exporter": "python",
   "pygments_lexer": "ipython3",
   "version": "3.10.10"
  }
 },
 "nbformat": 4,
 "nbformat_minor": 2
}
