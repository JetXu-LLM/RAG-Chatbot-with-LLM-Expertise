{
 "cells": [
  {
   "cell_type": "code",
   "execution_count": null,
   "metadata": {},
   "outputs": [],
   "source": [
    "import logging\n",
    "# 配置日志\n",
    "logging.basicConfig(level=logging.INFO)\n",
    "from transformers import AutoModelForCausalLM, AutoTokenizer\n",
    "import torch\n",
    "\n",
    "# Replace 'your_model_file' with the path to the model file you downloaded.\n",
    "model_id = \"mistralai/Mistral-7B-Instruct-v0.2\"\n",
    "tokenizer = AutoTokenizer.from_pretrained(model_id, device_map=\"mps\", trust_remote_code=True)\n",
    "\n",
    "model = AutoModelForCausalLM.from_pretrained(model_id, device_map=\"mps\", trust_remote_code=True, torch_dtype=torch.float16)"
   ]
  },
  {
   "cell_type": "code",
   "execution_count": null,
   "metadata": {},
   "outputs": [],
   "source": [
    "# 构造消息\n",
    "messages = [\n",
    "    {\"role\": \"user\", \"content\": \"你最喜欢的调料是什么？\"},\n",
    "    {\"role\": \"assistant\", \"content\": \"嗯，我特别偏爱新鲜的柠檬汁。它能给我烹饪的食物增添恰到好处的鲜味！\"},\n",
    "    {\"role\": \"user\", \"content\": \"你有没有美食的食谱？\"}\n",
    "]\n",
    "\n",
    "# 应用消息模板\n",
    "inputs = tokenizer.apply_chat_template(messages, return_tensors=\"pt\")\n",
    "print(tokenizer.decode(inputs[0]))\n",
    "inputs = tokenizer(tokenizer.decode(inputs[0]), return_tensors=\"pt\")\n",
    "inputs.to(model.device)\n",
    "outputs = model.generate(**inputs, max_new_tokens=4000, do_sample=True, num_return_sequences=1, pad_token_id=tokenizer.eos_token_id)\n",
    "print(tokenizer.decode(outputs[0], skip_special_tokens=True))"
   ]
  },
  {
   "cell_type": "code",
   "execution_count": null,
   "metadata": {},
   "outputs": [],
   "source": [
    "# Composing the instruction with the necessary template\n",
    "instruction = \"<s> [INST] {} [/INST]\".format(\"请详细解释一下什么是MOE混合专家大模型的架构和原理，请使用中文回答。\")\n",
    "inputs = tokenizer(instruction, return_tensors=\"pt\")\n",
    "inputs.to(\"mps\")\n",
    "outputs = model.generate(**inputs, max_new_tokens=4000, do_sample=True, num_return_sequences=1, temperature=0.9, top_k=50, top_p=0.95, pad_token_id=tokenizer.eos_token_id)\n",
    "print(tokenizer.decode(outputs[0], skip_special_tokens=True))"
   ]
  },
  {
   "cell_type": "code",
   "execution_count": null,
   "metadata": {},
   "outputs": [],
   "source": [
    "import logging\n",
    "from langchain.llms import HuggingFacePipeline\n",
    "\n",
    "# Configure logs\n",
    "logging.basicConfig(level=logging.INFO)"
   ]
  },
  {
   "cell_type": "code",
   "execution_count": null,
   "metadata": {},
   "outputs": [],
   "source": [
    "model_id = \"mistralai/Mistral-7B-Instruct-v0.2\"\n",
    "task = \"text-generation\"  # Specify the task\n",
    "hf_pipeline = HuggingFacePipeline.from_model_id(model_id, task=task)"
   ]
  },
  {
   "cell_type": "code",
   "execution_count": null,
   "metadata": {},
   "outputs": [],
   "source": [
    "messages = [\n",
    "    {\"role\": \"user\", \"content\": \"What's your favorite spice?\"},\n",
    "    {\"role\": \"assistant\", \"content\": \"Well, I have a preference for fresh lemonade. It adds just the right amount of umami to the food I cook!\"},\n",
    "    {\"role\": \"user\", \"content\": \"Do you have a recipe for a good meal?\"}\n",
    "]"
   ]
  },
  {
   "cell_type": "code",
   "execution_count": null,
   "metadata": {},
   "outputs": [],
   "source": [
    "from langchain_core.messages.base import BaseMessage\n",
    "from langchain_core.prompt_values import ChatPromptValue\n",
    "\n",
    "# Convert messages to a list of BaseMessages\n",
    "base_messages = [\n",
    "    BaseMessage(type=message[\"role\"], content=message[\"content\"]) for message in messages\n",
    "]\n",
    "\n",
    "# Create a ChatPromptValue from the list of BaseMessages\n",
    "prompt_value = ChatPromptValue(messages=base_messages)\n",
    "\n",
    "# Invoke the pipeline with the prompt value\n",
    "response = hf_pipeline.invoke(prompt_value)\n",
    "print(response[\"generated_text\"])"
   ]
  }
 ],
 "metadata": {
  "kernelspec": {
   "display_name": "Python 3",
   "language": "python",
   "name": "python3"
  },
  "language_info": {
   "codemirror_mode": {
    "name": "ipython",
    "version": 3
   },
   "file_extension": ".py",
   "mimetype": "text/x-python",
   "name": "python",
   "nbconvert_exporter": "python",
   "pygments_lexer": "ipython3",
   "version": "3.10.10"
  }
 },
 "nbformat": 4,
 "nbformat_minor": 2
}
